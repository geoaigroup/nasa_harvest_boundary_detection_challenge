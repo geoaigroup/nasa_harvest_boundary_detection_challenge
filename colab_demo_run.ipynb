{
  "nbformat": 4,
  "nbformat_minor": 0,
  "metadata": {
    "colab": {
      "provenance": [],
      "include_colab_link": true
    },
    "kernelspec": {
      "name": "python3",
      "display_name": "Python 3"
    },
    "language_info": {
      "name": "python"
    },
    "accelerator": "GPU",
    "gpuClass": "standard"
  },
  "cells": [
    {
      "cell_type": "markdown",
      "metadata": {
        "id": "view-in-github",
        "colab_type": "text"
      },
      "source": [
        "<a href=\"https://colab.research.google.com/github/geoaigroup/nasa_harvest_boundary_detection_challenge/blob/main/colab_demo_run.ipynb\" target=\"_parent\"><img src=\"https://colab.research.google.com/assets/colab-badge.svg\" alt=\"Open In Colab\"/></a>"
      ]
    },
    {
      "cell_type": "markdown",
      "source": [
        "Cloning repository. Detailed README is provided here:\n",
        "https://github.com/geoaigroup/nasa_harvest_boundary_detection_challenge"
      ],
      "metadata": {
        "id": "ZFzjoHUONOGu"
      }
    },
    {
      "cell_type": "code",
      "source": [
        "!git clone https://github.com/geoaigroup/nasa_harvest_boundary_detection_challenge.git"
      ],
      "metadata": {
        "id": "L4Dxzx6j_zmT"
      },
      "execution_count": null,
      "outputs": []
    },
    {
      "cell_type": "markdown",
      "source": [
        "Install Dependencies"
      ],
      "metadata": {
        "id": "9vQ9KbrdAbeB"
      }
    },
    {
      "cell_type": "code",
      "execution_count": null,
      "metadata": {
        "id": "3tROpO27-2MJ"
      },
      "outputs": [],
      "source": [
        "!pip install radiant_mlhub\n",
        "!pip install segmentation_models_pytorch\n",
        "!pip install rasterio\n",
        "!pip install scikit-image\n",
        "!pip install tqdm\n",
        "!pip install albumentations\n",
        "!pip install scipy\n",
        "!pip install einops"
      ]
    },
    {
      "cell_type": "markdown",
      "source": [
        "ML_HUB Authentication "
      ],
      "metadata": {
        "id": "4L7kOxHCLjlk"
      }
    },
    {
      "cell_type": "code",
      "source": [
        "!mlhub configure --api-key a05a647a758799e7f0d36dfe9e124dbcd5a6c50a82fec315aabca27a0adcd955"
      ],
      "metadata": {
        "id": "TE2jwTACGm-y"
      },
      "execution_count": null,
      "outputs": []
    },
    {
      "cell_type": "markdown",
      "source": [
        "Download Dataset and Rename data folders as specified."
      ],
      "metadata": {
        "id": "E2BIMXUYMG3n"
      }
    },
    {
      "cell_type": "code",
      "source": [
        "data_dir = '/content/nasa_harvest_boundary_detection_challenge/data'\n",
        "from radiant_mlhub import Dataset\n",
        "ds = Dataset.fetch('nasa_rwanda_field_boundary_competition')\n",
        "ds.download(data_dir)\n",
        "\n",
        "\n",
        "data_dir2 = f'{data_dir}/nasa_rwanda_field_boundary_competition'\n",
        "import os\n",
        "os.rename(f'{data_dir2}/nasa_rwanda_field_boundary_competition_source_train',f'{data_dir}/train_imgs')\n",
        "os.rename(f'{data_dir2}/nasa_rwanda_field_boundary_competition_labels_train',f'{data_dir}/train_labels')\n",
        "os.rename(f'{data_dir2}/nasa_rwanda_field_boundary_competition_source_test',f'{data_dir}/test_imgs')\n",
        "\n",
        "!rm -r /content/nasa_harvest_boundary_detection_challenge/data/nasa_rwanda_field_boundary_competition"
      ],
      "metadata": {
        "id": "YkPr9LZhGEEO",
        "colab": {
          "base_uri": "https://localhost:8080/"
        },
        "outputId": "8fb7043d-7683-430d-d677-f07c31440525"
      },
      "execution_count": 4,
      "outputs": [
        {
          "output_type": "stream",
          "name": "stderr",
          "text": [
            "nasa_rwanda_field_boundary_competition: fetch stac catalog: 160KB [00:01, 91.34KB/s]                          \n",
            "unarchive nasa_rwanda_field_boundary_competition.tar.gz: 100%|██████████| 962/962 [00:00<00:00, 3338.38it/s]\n",
            "download assets: 100%|██████████| 1738/1738 [05:12<00:00,  5.56it/s]\n"
          ]
        }
      ]
    },
    {
      "cell_type": "markdown",
      "source": [
        "To perform inference, you have to use our trained model weights found on a GCP bucket:"
      ],
      "metadata": {
        "id": "Kndng-MnSL_n"
      }
    },
    {
      "cell_type": "code",
      "source": [
        "from google.colab import auth\n",
        "auth.authenticate_user()\n",
        "project_id = 'strong-impulse-327808'\n",
        "!gcloud config set project {project_id}\n",
        "!gsutil -m cp -r gs://nasa_harvest_boundary_detection_challenge/nasa_rwanda_field_boundary_competition_final_weights/ /content/"
      ],
      "metadata": {
        "id": "oClkg6MB9HWT"
      },
      "execution_count": null,
      "outputs": []
    },
    {
      "cell_type": "markdown",
      "source": [
        "Run Inference and get a submission csv using our trained weights.\n",
        "\n",
        "Then you can submit the output csv to get a score of 0.40989:\n",
        "https://zindi.africa/competitions/nasa-harvest-field-boundary-detection-challenge/submissions"
      ],
      "metadata": {
        "id": "c1ESrNakUEqk"
      }
    },
    {
      "cell_type": "code",
      "source": [
        "%cd /content/nasa_harvest_boundary_detection_challenge\n",
        "!python3 ensemble_submission.py --input_dir '/content/nasa_rwanda_field_boundary_competition_final_weights' --data_dir './data' --save_file './geoai_final_submission.csv'"
      ],
      "metadata": {
        "colab": {
          "base_uri": "https://localhost:8080/"
        },
        "id": "E1SrsrtVUDhA",
        "outputId": "ebddea3c-1b5d-4921-ef2f-54b59e916182"
      },
      "execution_count": 6,
      "outputs": [
        {
          "output_type": "stream",
          "name": "stdout",
          "text": [
            "/content/nasa_harvest_boundary_detection_challenge\n",
            "Running Inference...: 100% 19/19 [01:37<00:00,  5.11s/it]\n",
            "Finished. Submission saved to ./geoai_final_submission.csv\n"
          ]
        }
      ]
    },
    {
      "cell_type": "markdown",
      "source": [
        "In case you need to re-run our models training, you can use below script. You Need 24GB VRAM, so this wont work in Colab."
      ],
      "metadata": {
        "id": "QTatXFHLMSK7"
      }
    },
    {
      "cell_type": "code",
      "source": [
        "!python3 train_all.py --configs_dir './final_models_configs' --out_dir './final_models' --data_dir './data/' --folds_path './folds.csv'"
      ],
      "metadata": {
        "id": "M8eZXclxA_8N",
        "colab": {
          "base_uri": "https://localhost:8080/"
        },
        "outputId": "fafa2ce6-3329-4ec7-bbf3-cacb755e4ed1"
      },
      "execution_count": null,
      "outputs": [
        {
          "output_type": "stream",
          "name": "stdout",
          "text": [
            "Training 1st stage Models...\n",
            "\n",
            "\n",
            "Model Config : nasa_rfb_UNET3D_tu-skresnet34_200epochs_fold1_V15\n",
            "RandomMaskIgnore()\n",
            "/usr/local/lib/python3.8/dist-packages/torch/utils/data/dataloader.py:554: UserWarning: This DataLoader will create 4 worker processes in total. Our suggested max number of worker in current system is 2, which is smaller than what this DataLoader is going to create. Please be aware that excessive worker creation might get DataLoader running slow or even freeze, lower the worker number to avoid potential slowness/freeze if necessary.\n",
            "  warnings.warn(_create_warning_msg(\n",
            "Model Architecture : UNET3D\n",
            "TrainEpoch[0]: losses : dice = 2.342| bce = 0.2374|-- F1scores = (0.0709 | 0.06278 | 0.0009682): 100% 11/11 [00:17<00:00,  1.62s/it]\n",
            "TrainEpoch[1]: losses : dice = 2.152| bce = 0.2298|-- F1scores = (0.07153 | 0.08947 | 0.007774): 100% 11/11 [00:14<00:00,  1.28s/it]\n",
            "TrainEpoch[2]: losses : dice = 2.073| bce = 0.2104|-- F1scores = (0.04842 | 0.06022 | 0.06138): 100% 11/11 [00:14<00:00,  1.28s/it]\n",
            "TrainEpoch[3]: losses : dice = 1.984| bce = 0.2071|-- F1scores = (0.07788 | 0.09598 | 0.04304): 100% 11/11 [00:14<00:00,  1.30s/it]\n",
            "TrainEpoch[4]: losses : dice = 1.82| bce = 0.2008|-- F1scores = (0.118 | 0.131 | 0.0707): 100% 11/11 [00:14<00:00,  1.32s/it]\n",
            "ValEpoch[4]: losses : dice = 2.516| bce = 0.9208 -- F1scores = (0.1462 | 0.1512 | 0.1643): 100% 14/14 [00:02<00:00,  6.32it/s]\n",
            "Current DiceScore [0.15116] is better than previous best DiceScore [-1e+04] ---> Saving Model!!! \n",
            "\n",
            "TrainEpoch[5]: losses : dice = 1.887| bce = 0.2148|-- F1scores = (0.1232 | 0.132 | 0.09294): 100% 11/11 [00:14<00:00,  1.36s/it]\n",
            "TrainEpoch[6]: losses : dice = 1.747| bce = 0.1927|-- F1scores = (0.1573 | 0.1749 | 0.1064): 100% 11/11 [00:14<00:00,  1.35s/it]\n",
            "TrainEpoch[7]: losses : dice = 1.526| bce = 0.1796|-- F1scores = (0.1911 | 0.2004 | 0.1483): 100% 11/11 [00:14<00:00,  1.33s/it]\n",
            "TrainEpoch[8]: losses : dice = 1.418| bce = 0.1876|-- F1scores = (0.1321 | 0.1877 | 0.158): 100% 11/11 [00:14<00:00,  1.35s/it]\n",
            "TrainEpoch[9]: losses : dice = 1.347| bce = 0.1766|-- F1scores = (0.1982 | 0.2387 | 0.1753): 100% 11/11 [00:14<00:00,  1.36s/it]\n",
            "ValEpoch[9]: losses : dice = 1.459| bce = 0.1927 -- F1scores = (0.3028 | 0.2935 | 0.2538): 100% 14/14 [00:02<00:00,  6.11it/s]\n",
            "Current DiceScore [0.2935] is better than previous best DiceScore [0.15116] ---> Saving Model!!! \n",
            "\n",
            "TrainEpoch[10]: losses : dice = 1.416| bce = 0.1963|-- F1scores = (0.1377 | 0.1933 | 0.1645): 100% 11/11 [00:15<00:00,  1.42s/it]\n",
            "TrainEpoch[11]: losses : dice = 1.4| bce = 0.1889|-- F1scores = (0.1822 | 0.2044 | 0.1483): 100% 11/11 [00:14<00:00,  1.35s/it]\n",
            "TrainEpoch[12]: losses : dice = 1.269| bce = 0.1952|-- F1scores = (0.2716 | 0.2799 | 0.2288):  36% 4/11 [00:06<00:09,  1.41s/it]"
          ]
        }
      ]
    }
  ]
}