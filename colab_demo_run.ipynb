{
  "nbformat": 4,
  "nbformat_minor": 0,
  "metadata": {
    "colab": {
      "provenance": [],
      "include_colab_link": true
    },
    "kernelspec": {
      "name": "python3",
      "display_name": "Python 3"
    },
    "language_info": {
      "name": "python"
    },
    "accelerator": "GPU",
    "gpuClass": "standard"
  },
  "cells": [
    {
      "cell_type": "markdown",
      "metadata": {
        "id": "view-in-github",
        "colab_type": "text"
      },
      "source": [
        "<a href=\"https://colab.research.google.com/github/geoaigroup/nasa_harvest_boundary_detection_challenge/blob/main/colab_demo_run.ipynb\" target=\"_parent\"><img src=\"https://colab.research.google.com/assets/colab-badge.svg\" alt=\"Open In Colab\"/></a>"
      ]
    },
    {
      "cell_type": "markdown",
      "source": [
        "Cloning repository. Detailed README is provided here:\n",
        "https://github.com/geoaigroup/nasa_harvest_boundary_detection_challenge"
      ],
      "metadata": {
        "id": "ZFzjoHUONOGu"
      }
    },
    {
      "cell_type": "code",
      "source": [
        "!git clone https://github.com/geoaigroup/nasa_harvest_boundary_detection_challenge.git"
      ],
      "metadata": {
        "id": "L4Dxzx6j_zmT"
      },
      "execution_count": null,
      "outputs": []
    },
    {
      "cell_type": "markdown",
      "source": [
        "Install Dependencies"
      ],
      "metadata": {
        "id": "9vQ9KbrdAbeB"
      }
    },
    {
      "cell_type": "code",
      "execution_count": null,
      "metadata": {
        "id": "3tROpO27-2MJ"
      },
      "outputs": [],
      "source": [
        "!pip install radiant_mlhub\n",
        "!pip install segmentation_models_pytorch\n",
        "!pip install rasterio\n",
        "!pip install scikit-image\n",
        "!pip install tqdm\n",
        "!pip install albumentations\n",
        "!pip install scipy\n",
        "!pip install einops"
      ]
    },
    {
      "cell_type": "markdown",
      "source": [
        "ML_HUB Authentication "
      ],
      "metadata": {
        "id": "4L7kOxHCLjlk"
      }
    },
    {
      "cell_type": "code",
      "source": [
        "!mlhub configure --api-key a05a647a758799e7f0d36dfe9e124dbcd5a6c50a82fec315aabca27a0adcd955"
      ],
      "metadata": {
        "id": "TE2jwTACGm-y"
      },
      "execution_count": null,
      "outputs": []
    },
    {
      "cell_type": "markdown",
      "source": [
        "Download Dataset and Rename data folders as specified."
      ],
      "metadata": {
        "id": "E2BIMXUYMG3n"
      }
    },
    {
      "cell_type": "code",
      "source": [
        "data_dir = '/content/nasa_harvest_boundary_detection_challenge/data'\n",
        "from radiant_mlhub import Dataset\n",
        "ds = Dataset.fetch('nasa_rwanda_field_boundary_competition')\n",
        "ds.download(data_dir)\n",
        "\n",
        "\n",
        "data_dir2 = f'{data_dir}/nasa_rwanda_field_boundary_competition'\n",
        "import os\n",
        "os.rename(f'{data_dir2}/nasa_rwanda_field_boundary_competition_source_train',f'{data_dir}/train_imgs')\n",
        "os.rename(f'{data_dir2}/nasa_rwanda_field_boundary_competition_labels_train',f'{data_dir}/train_labels')\n",
        "os.rename(f'{data_dir2}/nasa_rwanda_field_boundary_competition_source_test',f'{data_dir}/test_imgs')\n",
        "\n",
        "!rm -r /content/nasa_harvest_boundary_detection_challenge/data/nasa_rwanda_field_boundary_competition"
      ],
      "metadata": {
        "id": "YkPr9LZhGEEO"
      },
      "execution_count": null,
      "outputs": []
    },
    {
      "cell_type": "markdown",
      "source": [
        "To perform inference, you have to use our trained model weights found on a GCP bucket:"
      ],
      "metadata": {
        "id": "Kndng-MnSL_n"
      }
    },
    {
      "cell_type": "code",
      "source": [
        "from google.colab import auth\n",
        "auth.authenticate_user()\n",
        "project_id = 'strong-impulse-327808'\n",
        "!gcloud config set project {project_id}\n",
        "!gsutil -m cp -r gs://nasa_harvest_boundary_detection_challenge/nasa_rwanda_field_boundary_competition_final_weights/ /content/"
      ],
      "metadata": {
        "id": "oClkg6MB9HWT"
      },
      "execution_count": null,
      "outputs": []
    },
    {
      "cell_type": "markdown",
      "source": [
        "Run Inference and get a submission csv \"geoai_final_submission.csv\" using our trained weights.\n",
        "\n",
        "Then you can submit the output csv (/ content/geoai_final_submission.csv) to get a score of 0.40989:\n",
        "https://zindi.africa/competitions/nasa-harvest-field-boundary-detection-challenge/submissions"
      ],
      "metadata": {
        "id": "c1ESrNakUEqk"
      }
    },
    {
      "cell_type": "code",
      "source": [
        "%cd /content/nasa_harvest_boundary_detection_challenge\n",
        "!python3 ensemble_submission.py --input_dir '/content/nasa_rwanda_field_boundary_competition_final_weights' --data_dir './data' --save_file '../geoai_final_submission.csv'"
      ],
      "metadata": {
        "id": "E1SrsrtVUDhA"
      },
      "execution_count": null,
      "outputs": []
    },
    {
      "cell_type": "markdown",
      "source": [
        "In case you need to re-run our models training, you can use below script. You Need 24GB VRAM, so this wont work in Colab."
      ],
      "metadata": {
        "id": "QTatXFHLMSK7"
      }
    },
    {
      "cell_type": "code",
      "source": [
        "!python3 train_all.py --configs_dir './final_models_configs' --out_dir './final_models' --data_dir './data/' --folds_path './folds.csv'"
      ],
      "metadata": {
        "id": "M8eZXclxA_8N"
      },
      "execution_count": null,
      "outputs": []
    }
  ]
}