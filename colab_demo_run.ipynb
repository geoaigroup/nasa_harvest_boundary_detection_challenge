{
  "nbformat": 4,
  "nbformat_minor": 0,
  "metadata": {
    "colab": {
      "provenance": [],
      "include_colab_link": true
    },
    "kernelspec": {
      "name": "python3",
      "display_name": "Python 3"
    },
    "language_info": {
      "name": "python"
    },
    "accelerator": "GPU",
    "gpuClass": "standard"
  },
  "cells": [
    {
      "cell_type": "markdown",
      "metadata": {
        "id": "view-in-github",
        "colab_type": "text"
      },
      "source": [
        "<a href=\"https://colab.research.google.com/github/geoaigroup/nasa_harvest_boundary_detection_challenge/blob/main/colab_demo_run.ipynb\" target=\"_parent\"><img src=\"https://colab.research.google.com/assets/colab-badge.svg\" alt=\"Open In Colab\"/></a>"
      ]
    },
    {
      "cell_type": "markdown",
      "source": [
        "Install Dependencies"
      ],
      "metadata": {
        "id": "9vQ9KbrdAbeB"
      }
    },
    {
      "cell_type": "code",
      "execution_count": null,
      "metadata": {
        "id": "3tROpO27-2MJ"
      },
      "outputs": [],
      "source": [
        "!pip install radiant_mlhub\n",
        "!pip install segmentation_models_pytorch\n",
        "!pip install rasterio\n",
        "!pip install scikit-image\n",
        "!pip install tqdm\n",
        "!pip install albumentations\n",
        "!pip install scipy\n",
        "!pip install einops"
      ]
    },
    {
      "cell_type": "markdown",
      "source": [
        "ML_HUB Authentication "
      ],
      "metadata": {
        "id": "4L7kOxHCLjlk"
      }
    },
    {
      "cell_type": "code",
      "source": [
        "!mlhub configure"
      ],
      "metadata": {
        "id": "TE2jwTACGm-y"
      },
      "execution_count": null,
      "outputs": []
    },
    {
      "cell_type": "markdown",
      "source": [
        "At the time of the creation off this notebook, the repo was private, so we just unzip it... You might wanna do this:\n",
        "\n",
        "\n",
        "`!git clone https://github.com/geoaigroup/nasa_harvest_boundary_detection_challenge.git`"
      ],
      "metadata": {
        "id": "xrIwnUcGAifX"
      }
    },
    {
      "cell_type": "code",
      "source": [
        "!ls -la\n",
        "!unzip nasa_harvest_boundary_detection_challenge-main.zip"
      ],
      "metadata": {
        "id": "L4Dxzx6j_zmT"
      },
      "execution_count": null,
      "outputs": []
    },
    {
      "cell_type": "markdown",
      "source": [
        "Download Dataset and Rename data folders as specified."
      ],
      "metadata": {
        "id": "E2BIMXUYMG3n"
      }
    },
    {
      "cell_type": "code",
      "source": [
        "data_dir = '/content/nasa_harvest_boundary_detection_challenge-main/data'\n",
        "from radiant_mlhub import Dataset\n",
        "ds = Dataset.fetch('nasa_rwanda_field_boundary_competition')\n",
        "ds.download(data_dir)\n",
        "\n",
        "\n",
        "data_dir2 = f'{data_dir}/nasa_rwanda_field_boundary_competition'\n",
        "import os\n",
        "os.rename(f'{data_dir2}/nasa_rwanda_field_boundary_competition_source_train',f'{data_dir}/train_imgs')\n",
        "os.rename(f'{data_dir2}/nasa_rwanda_field_boundary_competition_labels_train',f'{data_dir}/train_labels')\n",
        "os.rename(f'{data_dir2}/nasa_rwanda_field_boundary_competition_source_test',f'{data_dir}/test_imgs')\n",
        "\n",
        "!rm -r /content/nasa_harvest_boundary_detection_challenge-main/data/nasa_rwanda_field_boundary_competition"
      ],
      "metadata": {
        "id": "YkPr9LZhGEEO",
        "colab": {
          "base_uri": "https://localhost:8080/"
        },
        "outputId": "72db8e88-aa17-484e-fea8-e6602e3305e4"
      },
      "execution_count": null,
      "outputs": [
        {
          "output_type": "stream",
          "name": "stderr",
          "text": [
            "nasa_rwanda_field_boundary_competition: fetch stac catalog: 160KB [00:00, 15128.24KB/s]            \n",
            "unarchive nasa_rwanda_field_boundary_competition.tar.gz: 100%|██████████| 962/962 [00:00<00:00, 4942.54it/s]\n",
            "download assets: 100%|██████████| 1738/1738 [00:33<00:00, 51.97it/s]\n"
          ]
        }
      ]
    },
    {
      "cell_type": "markdown",
      "source": [
        "To perform inference, you have to use the our trained model weights found in this drive:\n",
        "https://drive.google.com/drive/folders/16fM7JuLNvbqeJGeNf4o2y_Fyo0KV1wD0?usp=sharing\n",
        "\n",
        "Add a shortcut of this folder to your drive"
      ],
      "metadata": {
        "id": "Kndng-MnSL_n"
      }
    },
    {
      "cell_type": "code",
      "source": [
        "from google.colab import drive\n",
        "#drive.flush_and_unmount()\n",
        "#!rm -rf ../content/drive\n",
        "drive.mount('/content/drive')"
      ],
      "metadata": {
        "colab": {
          "base_uri": "https://localhost:8080/"
        },
        "id": "HtVf43dkSaJO",
        "outputId": "8df1ccbc-d8e9-4eee-d27b-3f0713e7be18"
      },
      "execution_count": null,
      "outputs": [
        {
          "output_type": "stream",
          "name": "stdout",
          "text": [
            "Mounted at /content/drive\n"
          ]
        }
      ]
    },
    {
      "cell_type": "markdown",
      "source": [
        "Run Inference and get a submission csv using our trained weights"
      ],
      "metadata": {
        "id": "c1ESrNakUEqk"
      }
    },
    {
      "cell_type": "code",
      "source": [
        "!python3 ensemble_submission.py --input_dir '/content/drive/MyDrive/nasa_rwanda_field_boundary_competition_final_weights' --data_dir './data' --save_file './geoai_final_submission.csv'"
      ],
      "metadata": {
        "colab": {
          "base_uri": "https://localhost:8080/"
        },
        "id": "E1SrsrtVUDhA",
        "outputId": "8dc91b9a-a9eb-4421-f825-eadddc8e0528"
      },
      "execution_count": null,
      "outputs": [
        {
          "output_type": "stream",
          "name": "stdout",
          "text": [
            "Running Inference...: 100% 19/19 [01:39<00:00,  5.24s/it]\n",
            "Finished. Submission saved to ./geoai_final_submission.csv\n"
          ]
        }
      ]
    },
    {
      "cell_type": "markdown",
      "source": [
        "Submit the output csv to get a score of 0.409897153"
      ],
      "metadata": {
        "id": "pue7boDif6DY"
      }
    },
    {
      "cell_type": "markdown",
      "source": [
        "Train Models ( You Need 24GB VRAM So this wont work here ). This is just a demo."
      ],
      "metadata": {
        "id": "QTatXFHLMSK7"
      }
    },
    {
      "cell_type": "code",
      "source": [
        "!python3 train_all.py --configs_dir './final_models_configs' --out_dir './final_models' --data_dir './data/nasa_rwanda_field_boundary_competition' --folds_path './folds.csv'"
      ],
      "metadata": {
        "id": "M8eZXclxA_8N"
      },
      "execution_count": null,
      "outputs": []
    }
  ]
}