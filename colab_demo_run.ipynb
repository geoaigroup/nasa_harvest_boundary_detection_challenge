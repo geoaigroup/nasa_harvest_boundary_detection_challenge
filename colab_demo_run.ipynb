{
  "nbformat": 4,
  "nbformat_minor": 0,
  "metadata": {
    "colab": {
      "provenance": []
    },
    "kernelspec": {
      "name": "python3",
      "display_name": "Python 3"
    },
    "language_info": {
      "name": "python"
    },
    "accelerator": "GPU",
    "gpuClass": "standard"
  },
  "cells": [
    {
      "cell_type": "markdown",
      "source": [
        "Install Dependencies"
      ],
      "metadata": {
        "id": "9vQ9KbrdAbeB"
      }
    },
    {
      "cell_type": "code",
      "execution_count": 1,
      "metadata": {
        "id": "3tROpO27-2MJ",
        "colab": {
          "base_uri": "https://localhost:8080/"
        },
        "outputId": "c8985cda-b188-4261-87e6-ab21a492b361"
      },
      "outputs": [
        {
          "output_type": "stream",
          "name": "stdout",
          "text": [
            "Looking in indexes: https://pypi.org/simple, https://us-python.pkg.dev/colab-wheels/public/simple/\n",
            "Collecting radiant_mlhub\n",
            "  Downloading radiant_mlhub-0.5.5-py3-none-any.whl (52 kB)\n",
            "\u001b[2K     \u001b[90m━━━━━━━━━━━━━━━━━━━━━━━━━━━━━━━━━━━━━━━━\u001b[0m \u001b[32m52.1/52.1 KB\u001b[0m \u001b[31m2.0 MB/s\u001b[0m eta \u001b[36m0:00:00\u001b[0m\n",
            "\u001b[?25hCollecting pydantic~=1.9.2\n",
            "  Downloading pydantic-1.9.2-cp38-cp38-manylinux_2_17_x86_64.manylinux2014_x86_64.whl (12.8 MB)\n",
            "\u001b[2K     \u001b[90m━━━━━━━━━━━━━━━━━━━━━━━━━━━━━━━━━━━━━━━━\u001b[0m \u001b[32m12.8/12.8 MB\u001b[0m \u001b[31m62.6 MB/s\u001b[0m eta \u001b[36m0:00:00\u001b[0m\n",
            "\u001b[?25hCollecting requests~=2.27.0\n",
            "  Downloading requests-2.27.1-py2.py3-none-any.whl (63 kB)\n",
            "\u001b[2K     \u001b[90m━━━━━━━━━━━━━━━━━━━━━━━━━━━━━━━━━━━━━━━━\u001b[0m \u001b[32m63.1/63.1 KB\u001b[0m \u001b[31m4.4 MB/s\u001b[0m eta \u001b[36m0:00:00\u001b[0m\n",
            "\u001b[?25hRequirement already satisfied: tqdm~=4.64.0 in /usr/local/lib/python3.8/dist-packages (from radiant_mlhub) (4.64.1)\n",
            "Requirement already satisfied: urllib3~=1.26.11 in /usr/local/lib/python3.8/dist-packages (from radiant_mlhub) (1.26.14)\n",
            "Collecting pystac~=1.4.0\n",
            "  Downloading pystac-1.4.0-py3-none-any.whl (137 kB)\n",
            "\u001b[2K     \u001b[90m━━━━━━━━━━━━━━━━━━━━━━━━━━━━━━━━━━━━━━━\u001b[0m \u001b[32m137.4/137.4 KB\u001b[0m \u001b[31m6.9 MB/s\u001b[0m eta \u001b[36m0:00:00\u001b[0m\n",
            "\u001b[?25hRequirement already satisfied: click<9.0.0,>=7.1.2 in /usr/local/lib/python3.8/dist-packages (from radiant_mlhub) (8.1.3)\n",
            "Requirement already satisfied: python-dateutil~=2.8.2 in /usr/local/lib/python3.8/dist-packages (from radiant_mlhub) (2.8.2)\n",
            "Collecting shapely~=1.8.0\n",
            "  Downloading Shapely-1.8.5.post1-cp38-cp38-manylinux_2_12_x86_64.manylinux2010_x86_64.whl (2.1 MB)\n",
            "\u001b[2K     \u001b[90m━━━━━━━━━━━━━━━━━━━━━━━━━━━━━━━━━━━━━━━━\u001b[0m \u001b[32m2.1/2.1 MB\u001b[0m \u001b[31m56.8 MB/s\u001b[0m eta \u001b[36m0:00:00\u001b[0m\n",
            "\u001b[?25hRequirement already satisfied: typing-extensions>=3.7.4.3 in /usr/local/lib/python3.8/dist-packages (from pydantic~=1.9.2->radiant_mlhub) (4.5.0)\n",
            "Requirement already satisfied: six>=1.5 in /usr/local/lib/python3.8/dist-packages (from python-dateutil~=2.8.2->radiant_mlhub) (1.15.0)\n",
            "Requirement already satisfied: certifi>=2017.4.17 in /usr/local/lib/python3.8/dist-packages (from requests~=2.27.0->radiant_mlhub) (2022.12.7)\n",
            "Collecting charset-normalizer~=2.0.0\n",
            "  Downloading charset_normalizer-2.0.12-py3-none-any.whl (39 kB)\n",
            "Requirement already satisfied: idna<4,>=2.5 in /usr/local/lib/python3.8/dist-packages (from requests~=2.27.0->radiant_mlhub) (2.10)\n",
            "Installing collected packages: shapely, pydantic, charset-normalizer, requests, pystac, radiant_mlhub\n",
            "  Attempting uninstall: shapely\n",
            "    Found existing installation: shapely 2.0.1\n",
            "    Uninstalling shapely-2.0.1:\n",
            "      Successfully uninstalled shapely-2.0.1\n",
            "  Attempting uninstall: pydantic\n",
            "    Found existing installation: pydantic 1.10.5\n",
            "    Uninstalling pydantic-1.10.5:\n",
            "      Successfully uninstalled pydantic-1.10.5\n",
            "  Attempting uninstall: charset-normalizer\n",
            "    Found existing installation: charset-normalizer 3.0.1\n",
            "    Uninstalling charset-normalizer-3.0.1:\n",
            "      Successfully uninstalled charset-normalizer-3.0.1\n",
            "  Attempting uninstall: requests\n",
            "    Found existing installation: requests 2.25.1\n",
            "    Uninstalling requests-2.25.1:\n",
            "      Successfully uninstalled requests-2.25.1\n",
            "Successfully installed charset-normalizer-2.0.12 pydantic-1.9.2 pystac-1.4.0 radiant_mlhub-0.5.5 requests-2.27.1 shapely-1.8.5.post1\n",
            "Looking in indexes: https://pypi.org/simple, https://us-python.pkg.dev/colab-wheels/public/simple/\n",
            "Collecting segmentation_models_pytorch\n",
            "  Downloading segmentation_models_pytorch-0.3.2-py3-none-any.whl (106 kB)\n",
            "\u001b[2K     \u001b[90m━━━━━━━━━━━━━━━━━━━━━━━━━━━━━━━━━━━━━━━\u001b[0m \u001b[32m106.7/106.7 KB\u001b[0m \u001b[31m8.5 MB/s\u001b[0m eta \u001b[36m0:00:00\u001b[0m\n",
            "\u001b[?25hCollecting efficientnet-pytorch==0.7.1\n",
            "  Downloading efficientnet_pytorch-0.7.1.tar.gz (21 kB)\n",
            "  Preparing metadata (setup.py) ... \u001b[?25l\u001b[?25hdone\n",
            "Requirement already satisfied: pillow in /usr/local/lib/python3.8/dist-packages (from segmentation_models_pytorch) (8.4.0)\n",
            "Collecting pretrainedmodels==0.7.4\n",
            "  Downloading pretrainedmodels-0.7.4.tar.gz (58 kB)\n",
            "\u001b[2K     \u001b[90m━━━━━━━━━━━━━━━━━━━━━━━━━━━━━━━━━━━━━━━━\u001b[0m \u001b[32m58.8/58.8 KB\u001b[0m \u001b[31m10.0 MB/s\u001b[0m eta \u001b[36m0:00:00\u001b[0m\n",
            "\u001b[?25h  Preparing metadata (setup.py) ... \u001b[?25l\u001b[?25hdone\n",
            "Requirement already satisfied: torchvision>=0.5.0 in /usr/local/lib/python3.8/dist-packages (from segmentation_models_pytorch) (0.14.1+cu116)\n",
            "Requirement already satisfied: tqdm in /usr/local/lib/python3.8/dist-packages (from segmentation_models_pytorch) (4.64.1)\n",
            "Collecting timm==0.6.12\n",
            "  Downloading timm-0.6.12-py3-none-any.whl (549 kB)\n",
            "\u001b[2K     \u001b[90m━━━━━━━━━━━━━━━━━━━━━━━━━━━━━━━━━━━━━━\u001b[0m \u001b[32m549.1/549.1 KB\u001b[0m \u001b[31m44.5 MB/s\u001b[0m eta \u001b[36m0:00:00\u001b[0m\n",
            "\u001b[?25hRequirement already satisfied: torch in /usr/local/lib/python3.8/dist-packages (from efficientnet-pytorch==0.7.1->segmentation_models_pytorch) (1.13.1+cu116)\n",
            "Collecting munch\n",
            "  Downloading munch-2.5.0-py2.py3-none-any.whl (10 kB)\n",
            "Requirement already satisfied: pyyaml in /usr/local/lib/python3.8/dist-packages (from timm==0.6.12->segmentation_models_pytorch) (6.0)\n",
            "Collecting huggingface-hub\n",
            "  Downloading huggingface_hub-0.12.1-py3-none-any.whl (190 kB)\n",
            "\u001b[2K     \u001b[90m━━━━━━━━━━━━━━━━━━━━━━━━━━━━━━━━━━━━━━\u001b[0m \u001b[32m190.3/190.3 KB\u001b[0m \u001b[31m29.3 MB/s\u001b[0m eta \u001b[36m0:00:00\u001b[0m\n",
            "\u001b[?25hRequirement already satisfied: numpy in /usr/local/lib/python3.8/dist-packages (from torchvision>=0.5.0->segmentation_models_pytorch) (1.22.4)\n",
            "Requirement already satisfied: typing-extensions in /usr/local/lib/python3.8/dist-packages (from torchvision>=0.5.0->segmentation_models_pytorch) (4.5.0)\n",
            "Requirement already satisfied: requests in /usr/local/lib/python3.8/dist-packages (from torchvision>=0.5.0->segmentation_models_pytorch) (2.27.1)\n",
            "Requirement already satisfied: packaging>=20.9 in /usr/local/lib/python3.8/dist-packages (from huggingface-hub->timm==0.6.12->segmentation_models_pytorch) (23.0)\n",
            "Requirement already satisfied: filelock in /usr/local/lib/python3.8/dist-packages (from huggingface-hub->timm==0.6.12->segmentation_models_pytorch) (3.9.0)\n",
            "Requirement already satisfied: six in /usr/local/lib/python3.8/dist-packages (from munch->pretrainedmodels==0.7.4->segmentation_models_pytorch) (1.15.0)\n",
            "Requirement already satisfied: certifi>=2017.4.17 in /usr/local/lib/python3.8/dist-packages (from requests->torchvision>=0.5.0->segmentation_models_pytorch) (2022.12.7)\n",
            "Requirement already satisfied: charset-normalizer~=2.0.0 in /usr/local/lib/python3.8/dist-packages (from requests->torchvision>=0.5.0->segmentation_models_pytorch) (2.0.12)\n",
            "Requirement already satisfied: idna<4,>=2.5 in /usr/local/lib/python3.8/dist-packages (from requests->torchvision>=0.5.0->segmentation_models_pytorch) (2.10)\n",
            "Requirement already satisfied: urllib3<1.27,>=1.21.1 in /usr/local/lib/python3.8/dist-packages (from requests->torchvision>=0.5.0->segmentation_models_pytorch) (1.26.14)\n",
            "Building wheels for collected packages: efficientnet-pytorch, pretrainedmodels\n",
            "  Building wheel for efficientnet-pytorch (setup.py) ... \u001b[?25l\u001b[?25hdone\n",
            "  Created wheel for efficientnet-pytorch: filename=efficientnet_pytorch-0.7.1-py3-none-any.whl size=16446 sha256=08994a5e6377ff4a5cc26601d0c5d37d9dff97d248e5ee7ec0bff265c59e89a7\n",
            "  Stored in directory: /root/.cache/pip/wheels/84/b9/90/25a0195cf95fb5533db96f1c77ea3f296b7cc86ae8ae48e3dc\n",
            "  Building wheel for pretrainedmodels (setup.py) ... \u001b[?25l\u001b[?25hdone\n",
            "  Created wheel for pretrainedmodels: filename=pretrainedmodels-0.7.4-py3-none-any.whl size=60966 sha256=eb3ee8f305ab59b28ad25f10cad3da0a8916169cd107cb4f74d1e172f36b009e\n",
            "  Stored in directory: /root/.cache/pip/wheels/ed/fa/b9/5c82b59d905f95542a192b883c0cc0082407ea2f54beb2f9e6\n",
            "Successfully built efficientnet-pytorch pretrainedmodels\n",
            "Installing collected packages: munch, huggingface-hub, efficientnet-pytorch, timm, pretrainedmodels, segmentation_models_pytorch\n",
            "Successfully installed efficientnet-pytorch-0.7.1 huggingface-hub-0.12.1 munch-2.5.0 pretrainedmodels-0.7.4 segmentation_models_pytorch-0.3.2 timm-0.6.12\n",
            "Looking in indexes: https://pypi.org/simple, https://us-python.pkg.dev/colab-wheels/public/simple/\n",
            "Collecting rasterio\n",
            "  Downloading rasterio-1.3.6-cp38-cp38-manylinux_2_17_x86_64.manylinux2014_x86_64.whl (20.1 MB)\n",
            "\u001b[2K     \u001b[90m━━━━━━━━━━━━━━━━━━━━━━━━━━━━━━━━━━━━━━━━\u001b[0m \u001b[32m20.1/20.1 MB\u001b[0m \u001b[31m54.3 MB/s\u001b[0m eta \u001b[36m0:00:00\u001b[0m\n",
            "\u001b[?25hCollecting affine\n",
            "  Downloading affine-2.4.0-py3-none-any.whl (15 kB)\n",
            "Requirement already satisfied: click>=4.0 in /usr/local/lib/python3.8/dist-packages (from rasterio) (8.1.3)\n",
            "Collecting cligj>=0.5\n",
            "  Downloading cligj-0.7.2-py3-none-any.whl (7.1 kB)\n",
            "Requirement already satisfied: attrs in /usr/local/lib/python3.8/dist-packages (from rasterio) (22.2.0)\n",
            "Requirement already satisfied: certifi in /usr/local/lib/python3.8/dist-packages (from rasterio) (2022.12.7)\n",
            "Requirement already satisfied: numpy>=1.18 in /usr/local/lib/python3.8/dist-packages (from rasterio) (1.22.4)\n",
            "Collecting snuggs>=1.4.1\n",
            "  Downloading snuggs-1.4.7-py3-none-any.whl (5.4 kB)\n",
            "Requirement already satisfied: setuptools in /usr/local/lib/python3.8/dist-packages (from rasterio) (57.4.0)\n",
            "Collecting click-plugins\n",
            "  Downloading click_plugins-1.1.1-py2.py3-none-any.whl (7.5 kB)\n",
            "Requirement already satisfied: pyparsing>=2.1.6 in /usr/local/lib/python3.8/dist-packages (from snuggs>=1.4.1->rasterio) (3.0.9)\n",
            "Installing collected packages: snuggs, cligj, click-plugins, affine, rasterio\n",
            "Successfully installed affine-2.4.0 click-plugins-1.1.1 cligj-0.7.2 rasterio-1.3.6 snuggs-1.4.7\n",
            "Looking in indexes: https://pypi.org/simple, https://us-python.pkg.dev/colab-wheels/public/simple/\n",
            "Requirement already satisfied: scikit-image in /usr/local/lib/python3.8/dist-packages (0.18.3)\n",
            "Requirement already satisfied: PyWavelets>=1.1.1 in /usr/local/lib/python3.8/dist-packages (from scikit-image) (1.4.1)\n",
            "Requirement already satisfied: imageio>=2.3.0 in /usr/local/lib/python3.8/dist-packages (from scikit-image) (2.9.0)\n",
            "Requirement already satisfied: matplotlib!=3.0.0,>=2.0.0 in /usr/local/lib/python3.8/dist-packages (from scikit-image) (3.5.3)\n",
            "Requirement already satisfied: numpy>=1.16.5 in /usr/local/lib/python3.8/dist-packages (from scikit-image) (1.22.4)\n",
            "Requirement already satisfied: scipy>=1.0.1 in /usr/local/lib/python3.8/dist-packages (from scikit-image) (1.7.3)\n",
            "Requirement already satisfied: pillow!=7.1.0,!=7.1.1,>=4.3.0 in /usr/local/lib/python3.8/dist-packages (from scikit-image) (8.4.0)\n",
            "Requirement already satisfied: tifffile>=2019.7.26 in /usr/local/lib/python3.8/dist-packages (from scikit-image) (2023.2.3)\n",
            "Requirement already satisfied: networkx>=2.0 in /usr/local/lib/python3.8/dist-packages (from scikit-image) (3.0)\n",
            "Requirement already satisfied: pyparsing>=2.2.1 in /usr/local/lib/python3.8/dist-packages (from matplotlib!=3.0.0,>=2.0.0->scikit-image) (3.0.9)\n",
            "Requirement already satisfied: fonttools>=4.22.0 in /usr/local/lib/python3.8/dist-packages (from matplotlib!=3.0.0,>=2.0.0->scikit-image) (4.38.0)\n",
            "Requirement already satisfied: packaging>=20.0 in /usr/local/lib/python3.8/dist-packages (from matplotlib!=3.0.0,>=2.0.0->scikit-image) (23.0)\n",
            "Requirement already satisfied: kiwisolver>=1.0.1 in /usr/local/lib/python3.8/dist-packages (from matplotlib!=3.0.0,>=2.0.0->scikit-image) (1.4.4)\n",
            "Requirement already satisfied: python-dateutil>=2.7 in /usr/local/lib/python3.8/dist-packages (from matplotlib!=3.0.0,>=2.0.0->scikit-image) (2.8.2)\n",
            "Requirement already satisfied: cycler>=0.10 in /usr/local/lib/python3.8/dist-packages (from matplotlib!=3.0.0,>=2.0.0->scikit-image) (0.11.0)\n",
            "Requirement already satisfied: six>=1.5 in /usr/local/lib/python3.8/dist-packages (from python-dateutil>=2.7->matplotlib!=3.0.0,>=2.0.0->scikit-image) (1.15.0)\n",
            "Looking in indexes: https://pypi.org/simple, https://us-python.pkg.dev/colab-wheels/public/simple/\n",
            "Requirement already satisfied: tqdm in /usr/local/lib/python3.8/dist-packages (4.64.1)\n",
            "Looking in indexes: https://pypi.org/simple, https://us-python.pkg.dev/colab-wheels/public/simple/\n",
            "Requirement already satisfied: albumentations in /usr/local/lib/python3.8/dist-packages (1.2.1)\n",
            "Requirement already satisfied: scikit-image>=0.16.1 in /usr/local/lib/python3.8/dist-packages (from albumentations) (0.18.3)\n",
            "Requirement already satisfied: PyYAML in /usr/local/lib/python3.8/dist-packages (from albumentations) (6.0)\n",
            "Requirement already satisfied: qudida>=0.0.4 in /usr/local/lib/python3.8/dist-packages (from albumentations) (0.0.4)\n",
            "Requirement already satisfied: numpy>=1.11.1 in /usr/local/lib/python3.8/dist-packages (from albumentations) (1.22.4)\n",
            "Requirement already satisfied: opencv-python-headless>=4.1.1 in /usr/local/lib/python3.8/dist-packages (from albumentations) (4.7.0.72)\n",
            "Requirement already satisfied: scipy in /usr/local/lib/python3.8/dist-packages (from albumentations) (1.7.3)\n",
            "Requirement already satisfied: scikit-learn>=0.19.1 in /usr/local/lib/python3.8/dist-packages (from qudida>=0.0.4->albumentations) (1.0.2)\n",
            "Requirement already satisfied: typing-extensions in /usr/local/lib/python3.8/dist-packages (from qudida>=0.0.4->albumentations) (4.5.0)\n",
            "Requirement already satisfied: imageio>=2.3.0 in /usr/local/lib/python3.8/dist-packages (from scikit-image>=0.16.1->albumentations) (2.9.0)\n",
            "Requirement already satisfied: networkx>=2.0 in /usr/local/lib/python3.8/dist-packages (from scikit-image>=0.16.1->albumentations) (3.0)\n",
            "Requirement already satisfied: tifffile>=2019.7.26 in /usr/local/lib/python3.8/dist-packages (from scikit-image>=0.16.1->albumentations) (2023.2.3)\n",
            "Requirement already satisfied: matplotlib!=3.0.0,>=2.0.0 in /usr/local/lib/python3.8/dist-packages (from scikit-image>=0.16.1->albumentations) (3.5.3)\n",
            "Requirement already satisfied: pillow!=7.1.0,!=7.1.1,>=4.3.0 in /usr/local/lib/python3.8/dist-packages (from scikit-image>=0.16.1->albumentations) (8.4.0)\n",
            "Requirement already satisfied: PyWavelets>=1.1.1 in /usr/local/lib/python3.8/dist-packages (from scikit-image>=0.16.1->albumentations) (1.4.1)\n",
            "Requirement already satisfied: kiwisolver>=1.0.1 in /usr/local/lib/python3.8/dist-packages (from matplotlib!=3.0.0,>=2.0.0->scikit-image>=0.16.1->albumentations) (1.4.4)\n",
            "Requirement already satisfied: fonttools>=4.22.0 in /usr/local/lib/python3.8/dist-packages (from matplotlib!=3.0.0,>=2.0.0->scikit-image>=0.16.1->albumentations) (4.38.0)\n",
            "Requirement already satisfied: python-dateutil>=2.7 in /usr/local/lib/python3.8/dist-packages (from matplotlib!=3.0.0,>=2.0.0->scikit-image>=0.16.1->albumentations) (2.8.2)\n",
            "Requirement already satisfied: pyparsing>=2.2.1 in /usr/local/lib/python3.8/dist-packages (from matplotlib!=3.0.0,>=2.0.0->scikit-image>=0.16.1->albumentations) (3.0.9)\n",
            "Requirement already satisfied: cycler>=0.10 in /usr/local/lib/python3.8/dist-packages (from matplotlib!=3.0.0,>=2.0.0->scikit-image>=0.16.1->albumentations) (0.11.0)\n",
            "Requirement already satisfied: packaging>=20.0 in /usr/local/lib/python3.8/dist-packages (from matplotlib!=3.0.0,>=2.0.0->scikit-image>=0.16.1->albumentations) (23.0)\n",
            "Requirement already satisfied: threadpoolctl>=2.0.0 in /usr/local/lib/python3.8/dist-packages (from scikit-learn>=0.19.1->qudida>=0.0.4->albumentations) (3.1.0)\n",
            "Requirement already satisfied: joblib>=0.11 in /usr/local/lib/python3.8/dist-packages (from scikit-learn>=0.19.1->qudida>=0.0.4->albumentations) (1.2.0)\n",
            "Requirement already satisfied: six>=1.5 in /usr/local/lib/python3.8/dist-packages (from python-dateutil>=2.7->matplotlib!=3.0.0,>=2.0.0->scikit-image>=0.16.1->albumentations) (1.15.0)\n",
            "Looking in indexes: https://pypi.org/simple, https://us-python.pkg.dev/colab-wheels/public/simple/\n",
            "Requirement already satisfied: scipy in /usr/local/lib/python3.8/dist-packages (1.7.3)\n",
            "Requirement already satisfied: numpy<1.23.0,>=1.16.5 in /usr/local/lib/python3.8/dist-packages (from scipy) (1.22.4)\n",
            "Looking in indexes: https://pypi.org/simple, https://us-python.pkg.dev/colab-wheels/public/simple/\n",
            "Collecting einops\n",
            "  Downloading einops-0.6.0-py3-none-any.whl (41 kB)\n",
            "\u001b[2K     \u001b[90m━━━━━━━━━━━━━━━━━━━━━━━━━━━━━━━━━━━━━━━━\u001b[0m \u001b[32m41.6/41.6 KB\u001b[0m \u001b[31m6.2 MB/s\u001b[0m eta \u001b[36m0:00:00\u001b[0m\n",
            "\u001b[?25hInstalling collected packages: einops\n",
            "Successfully installed einops-0.6.0\n"
          ]
        }
      ],
      "source": [
        "!pip install radiant_mlhub\n",
        "!pip install segmentation_models_pytorch\n",
        "!pip install rasterio\n",
        "!pip install scikit-image\n",
        "!pip install tqdm\n",
        "!pip install albumentations\n",
        "!pip install scipy\n",
        "!pip install einops"
      ]
    },
    {
      "cell_type": "markdown",
      "source": [
        "ML_HUB Authentication "
      ],
      "metadata": {
        "id": "4L7kOxHCLjlk"
      }
    },
    {
      "cell_type": "code",
      "source": [
        "!mlhub configure"
      ],
      "metadata": {
        "id": "TE2jwTACGm-y",
        "colab": {
          "base_uri": "https://localhost:8080/"
        },
        "outputId": "b1556555-3c20-4b3d-a19f-6fef57777c7a"
      },
      "execution_count": 2,
      "outputs": [
        {
          "output_type": "stream",
          "name": "stdout",
          "text": [
            "API Key: c46b9b73ea94aa3d902916767485cfb7d2e0eb7fe956b9145d9ce4b9aeae20fc\n",
            "Wrote profile to /root/.mlhub/profiles\n"
          ]
        }
      ]
    },
    {
      "cell_type": "markdown",
      "source": [
        "At the time of the creation off this notebook, the repo was private, so we just unzip it... You might wanna do this:\n",
        "\n",
        "\n",
        "`!git clone https://github.com/geoaigroup/nasa_harvest_boundary_detection_challenge.git`"
      ],
      "metadata": {
        "id": "xrIwnUcGAifX"
      }
    },
    {
      "cell_type": "code",
      "source": [
        "!ls -la\n",
        "!unzip nasa_harvest_boundary_detection_challenge-main.zip"
      ],
      "metadata": {
        "id": "L4Dxzx6j_zmT",
        "colab": {
          "base_uri": "https://localhost:8080/"
        },
        "outputId": "c0691f68-63f1-404d-9ad4-bc057c766244"
      },
      "execution_count": 3,
      "outputs": [
        {
          "output_type": "stream",
          "name": "stdout",
          "text": [
            "total 3112\n",
            "drwxr-xr-x 1 root root    4096 Mar  1 09:09 .\n",
            "drwxr-xr-x 1 root root    4096 Mar  1 09:02 ..\n",
            "drwxr-xr-x 4 root root    4096 Feb 27 14:36 .config\n",
            "-rw-r--r-- 1 root root 3168954 Mar  1 09:09 nasa_harvest_boundary_detection_challenge-main.zip\n",
            "drwxr-xr-x 1 root root    4096 Feb 27 14:36 sample_data\n",
            "Archive:  nasa_harvest_boundary_detection_challenge-main.zip\n",
            "6080101bf14d21c7b3d406144aae2d56f1f1d96d\n",
            "   creating: nasa_harvest_boundary_detection_challenge-main/\n",
            "  inflating: nasa_harvest_boundary_detection_challenge-main/README.md  \n",
            " extracting: nasa_harvest_boundary_detection_challenge-main/__init__.py  \n",
            "  inflating: nasa_harvest_boundary_detection_challenge-main/colab_demo_run.ipynb  \n",
            "   creating: nasa_harvest_boundary_detection_challenge-main/configs/\n",
            "  inflating: nasa_harvest_boundary_detection_challenge-main/configs/__init__.py  \n",
            "  inflating: nasa_harvest_boundary_detection_challenge-main/configs/configs_fully3dunet.py  \n",
            "  inflating: nasa_harvest_boundary_detection_challenge-main/configs/configs_refinenet.py  \n",
            "  inflating: nasa_harvest_boundary_detection_challenge-main/configs/configs_tsvit.py  \n",
            "  inflating: nasa_harvest_boundary_detection_challenge-main/configs/configs_unet3d.py  \n",
            "  inflating: nasa_harvest_boundary_detection_challenge-main/configs/configs_unet3d_kd.py  \n",
            "  inflating: nasa_harvest_boundary_detection_challenge-main/configs/configs_unetlstm.py  \n",
            "  inflating: nasa_harvest_boundary_detection_challenge-main/configs/configs_unetplusplus3d.py  \n",
            "  inflating: nasa_harvest_boundary_detection_challenge-main/configs/configs_utae.py  \n",
            "   creating: nasa_harvest_boundary_detection_challenge-main/data/\n",
            "  inflating: nasa_harvest_boundary_detection_challenge-main/data/.gitignore  \n",
            "  inflating: nasa_harvest_boundary_detection_challenge-main/dataset.py  \n",
            "  inflating: nasa_harvest_boundary_detection_challenge-main/ensemble_submission.py  \n",
            "   creating: nasa_harvest_boundary_detection_challenge-main/final_models_configs/\n",
            "   creating: nasa_harvest_boundary_detection_challenge-main/final_models_configs/nasa_rfb_KD_UNET3D_tu-tf_efficientnetv2_s_300epochs_fold1_V21/\n",
            "  inflating: nasa_harvest_boundary_detection_challenge-main/final_models_configs/nasa_rfb_KD_UNET3D_tu-tf_efficientnetv2_s_300epochs_fold1_V21/configs.json  \n",
            "   creating: nasa_harvest_boundary_detection_challenge-main/final_models_configs/nasa_rfb_KD_UNET3D_tu-tf_efficientnetv2_s_300epochs_fold2_V21/\n",
            "  inflating: nasa_harvest_boundary_detection_challenge-main/final_models_configs/nasa_rfb_KD_UNET3D_tu-tf_efficientnetv2_s_300epochs_fold2_V21/configs.json  \n",
            "   creating: nasa_harvest_boundary_detection_challenge-main/final_models_configs/nasa_rfb_KD_UNET3D_tu-tf_efficientnetv2_s_300epochs_fold3_V21/\n",
            "  inflating: nasa_harvest_boundary_detection_challenge-main/final_models_configs/nasa_rfb_KD_UNET3D_tu-tf_efficientnetv2_s_300epochs_fold3_V21/configs.json  \n",
            "   creating: nasa_harvest_boundary_detection_challenge-main/final_models_configs/nasa_rfb_UNET3D_tu-skresnet34_200epochs_fold1_V15/\n",
            "  inflating: nasa_harvest_boundary_detection_challenge-main/final_models_configs/nasa_rfb_UNET3D_tu-skresnet34_200epochs_fold1_V15/configs.json  \n",
            "   creating: nasa_harvest_boundary_detection_challenge-main/final_models_configs/nasa_rfb_UNET3D_tu-tf_efficientnetv2_b2_300epochs_fold1_V14/\n",
            "  inflating: nasa_harvest_boundary_detection_challenge-main/final_models_configs/nasa_rfb_UNET3D_tu-tf_efficientnetv2_b2_300epochs_fold1_V14/configs.json  \n",
            "   creating: nasa_harvest_boundary_detection_challenge-main/final_models_configs/nasa_rfb_UNET3D_tu-tf_efficientnetv2_b2_300epochs_fold1_V15/\n",
            "  inflating: nasa_harvest_boundary_detection_challenge-main/final_models_configs/nasa_rfb_UNET3D_tu-tf_efficientnetv2_b2_300epochs_fold1_V15/configs.json  \n",
            "   creating: nasa_harvest_boundary_detection_challenge-main/final_models_configs/nasa_rfb_UNET3D_tu-tf_efficientnetv2_m_500epochs_fold0_V17/\n",
            "  inflating: nasa_harvest_boundary_detection_challenge-main/final_models_configs/nasa_rfb_UNET3D_tu-tf_efficientnetv2_m_500epochs_fold0_V17/configs.json  \n",
            "   creating: nasa_harvest_boundary_detection_challenge-main/final_models_configs/nasa_rfb_UNET3D_tu-tf_efficientnetv2_m_500epochs_fold1_V17/\n",
            "  inflating: nasa_harvest_boundary_detection_challenge-main/final_models_configs/nasa_rfb_UNET3D_tu-tf_efficientnetv2_m_500epochs_fold1_V17/configs.json  \n",
            "   creating: nasa_harvest_boundary_detection_challenge-main/final_models_configs/nasa_rfb_UNET3D_tu-tf_efficientnetv2_s_200epochs_fold2_V15/\n",
            "  inflating: nasa_harvest_boundary_detection_challenge-main/final_models_configs/nasa_rfb_UNET3D_tu-tf_efficientnetv2_s_200epochs_fold2_V15/configs.json  \n",
            "   creating: nasa_harvest_boundary_detection_challenge-main/final_models_configs/nasa_rfb_UNET3D_tu-tf_efficientnetv2_s_300epochs_fold0_V17/\n",
            "  inflating: nasa_harvest_boundary_detection_challenge-main/final_models_configs/nasa_rfb_UNET3D_tu-tf_efficientnetv2_s_300epochs_fold0_V17/configs.json  \n",
            "   creating: nasa_harvest_boundary_detection_challenge-main/final_models_configs/nasa_rfb_UNET3D_tu-tf_efficientnetv2_s_300epochs_fold0_V18/\n",
            "  inflating: nasa_harvest_boundary_detection_challenge-main/final_models_configs/nasa_rfb_UNET3D_tu-tf_efficientnetv2_s_300epochs_fold0_V18/configs.json  \n",
            "   creating: nasa_harvest_boundary_detection_challenge-main/final_models_configs/nasa_rfb_UNET3D_tu-tf_efficientnetv2_s_300epochs_fold1_V15/\n",
            "  inflating: nasa_harvest_boundary_detection_challenge-main/final_models_configs/nasa_rfb_UNET3D_tu-tf_efficientnetv2_s_300epochs_fold1_V15/configs.json  \n",
            "   creating: nasa_harvest_boundary_detection_challenge-main/final_models_configs/nasa_rfb_UNET3D_tu-tf_efficientnetv2_s_300epochs_fold1_V17/\n",
            "  inflating: nasa_harvest_boundary_detection_challenge-main/final_models_configs/nasa_rfb_UNET3D_tu-tf_efficientnetv2_s_300epochs_fold1_V17/configs.json  \n",
            "   creating: nasa_harvest_boundary_detection_challenge-main/final_models_configs/nasa_rfb_UNET3D_tu-tf_efficientnetv2_s_300epochs_fold1_V18/\n",
            "  inflating: nasa_harvest_boundary_detection_challenge-main/final_models_configs/nasa_rfb_UNET3D_tu-tf_efficientnetv2_s_300epochs_fold1_V18/configs.json  \n",
            "   creating: nasa_harvest_boundary_detection_challenge-main/final_models_configs/nasa_rfb_UNET3D_tu-tf_efficientnetv2_s_300epochs_fold1_V21/\n",
            "  inflating: nasa_harvest_boundary_detection_challenge-main/final_models_configs/nasa_rfb_UNET3D_tu-tf_efficientnetv2_s_300epochs_fold1_V21/configs.json  \n",
            "   creating: nasa_harvest_boundary_detection_challenge-main/final_models_configs/nasa_rfb_UNET3D_tu-tf_efficientnetv2_s_300epochs_fold2_V17/\n",
            "  inflating: nasa_harvest_boundary_detection_challenge-main/final_models_configs/nasa_rfb_UNET3D_tu-tf_efficientnetv2_s_300epochs_fold2_V17/configs.json  \n",
            "   creating: nasa_harvest_boundary_detection_challenge-main/final_models_configs/nasa_rfb_UNET3D_tu-tf_efficientnetv2_s_300epochs_fold2_V18/\n",
            "  inflating: nasa_harvest_boundary_detection_challenge-main/final_models_configs/nasa_rfb_UNET3D_tu-tf_efficientnetv2_s_300epochs_fold2_V18/configs.json  \n",
            "   creating: nasa_harvest_boundary_detection_challenge-main/final_models_configs/nasa_rfb_UNET3D_tu-tf_efficientnetv2_s_300epochs_fold2_V21/\n",
            "  inflating: nasa_harvest_boundary_detection_challenge-main/final_models_configs/nasa_rfb_UNET3D_tu-tf_efficientnetv2_s_300epochs_fold2_V21/configs.json  \n",
            "   creating: nasa_harvest_boundary_detection_challenge-main/final_models_configs/nasa_rfb_UNET3D_tu-tf_efficientnetv2_s_300epochs_fold3_V15/\n",
            "  inflating: nasa_harvest_boundary_detection_challenge-main/final_models_configs/nasa_rfb_UNET3D_tu-tf_efficientnetv2_s_300epochs_fold3_V15/configs.json  \n",
            "   creating: nasa_harvest_boundary_detection_challenge-main/final_models_configs/nasa_rfb_UNET3D_tu-tf_efficientnetv2_s_300epochs_fold3_V17/\n",
            "  inflating: nasa_harvest_boundary_detection_challenge-main/final_models_configs/nasa_rfb_UNET3D_tu-tf_efficientnetv2_s_300epochs_fold3_V17/configs.json  \n",
            "   creating: nasa_harvest_boundary_detection_challenge-main/final_models_configs/nasa_rfb_UNET3D_tu-tf_efficientnetv2_s_300epochs_fold3_V18/\n",
            "  inflating: nasa_harvest_boundary_detection_challenge-main/final_models_configs/nasa_rfb_UNET3D_tu-tf_efficientnetv2_s_300epochs_fold3_V18/configs.json  \n",
            "  inflating: nasa_harvest_boundary_detection_challenge-main/final_submission.csv  \n",
            "  inflating: nasa_harvest_boundary_detection_challenge-main/folds.csv  \n",
            "   creating: nasa_harvest_boundary_detection_challenge-main/media/\n",
            "  inflating: nasa_harvest_boundary_detection_challenge-main/media/plot_visual.png  \n",
            "   creating: nasa_harvest_boundary_detection_challenge-main/models/\n",
            "  inflating: nasa_harvest_boundary_detection_challenge-main/models/ASPP.py  \n",
            "  inflating: nasa_harvest_boundary_detection_challenge-main/models/__init__.py  \n",
            "  inflating: nasa_harvest_boundary_detection_challenge-main/models/conv_lstm.py  \n",
            "  inflating: nasa_harvest_boundary_detection_challenge-main/models/convlstm.py  \n",
            "  inflating: nasa_harvest_boundary_detection_challenge-main/models/fu3d_bblocks.py  \n",
            "  inflating: nasa_harvest_boundary_detection_challenge-main/models/fullyunet3d.py  \n",
            "  inflating: nasa_harvest_boundary_detection_challenge-main/models/ltae.py  \n",
            "  inflating: nasa_harvest_boundary_detection_challenge-main/models/positional_encoding.py  \n",
            "  inflating: nasa_harvest_boundary_detection_challenge-main/models/refine_model.py  \n",
            "  inflating: nasa_harvest_boundary_detection_challenge-main/models/squeeze_att.py  \n",
            "  inflating: nasa_harvest_boundary_detection_challenge-main/models/tsvit.py  \n",
            "  inflating: nasa_harvest_boundary_detection_challenge-main/models/tsvit_module.py  \n",
            "  inflating: nasa_harvest_boundary_detection_challenge-main/models/unet3d.py  \n",
            "  inflating: nasa_harvest_boundary_detection_challenge-main/models/unetlstm.py  \n",
            "  inflating: nasa_harvest_boundary_detection_challenge-main/models/unetplusplus3d.py  \n",
            "  inflating: nasa_harvest_boundary_detection_challenge-main/models/utae.py  \n",
            "  inflating: nasa_harvest_boundary_detection_challenge-main/split2Kfolds.py  \n",
            "  inflating: nasa_harvest_boundary_detection_challenge-main/train.py  \n",
            "  inflating: nasa_harvest_boundary_detection_challenge-main/train_all.py  \n",
            "  inflating: nasa_harvest_boundary_detection_challenge-main/train_kd.py  \n",
            "   creating: nasa_harvest_boundary_detection_challenge-main/utils/\n",
            "  inflating: nasa_harvest_boundary_detection_challenge-main/utils/__init__.py  \n",
            "  inflating: nasa_harvest_boundary_detection_challenge-main/utils/gen_indices.py  \n",
            "  inflating: nasa_harvest_boundary_detection_challenge-main/utils/losses.py  \n",
            "  inflating: nasa_harvest_boundary_detection_challenge-main/utils/meters.py  \n",
            "  inflating: nasa_harvest_boundary_detection_challenge-main/utils/metrics.py  \n",
            "  inflating: nasa_harvest_boundary_detection_challenge-main/utils/mixup.py  \n",
            "  inflating: nasa_harvest_boundary_detection_challenge-main/utils/optimizers.py  \n",
            "  inflating: nasa_harvest_boundary_detection_challenge-main/utils/schedulers.py  \n",
            "  inflating: nasa_harvest_boundary_detection_challenge-main/utils/test_utils.py  \n",
            "  inflating: nasa_harvest_boundary_detection_challenge-main/utils/transforms.py  \n"
          ]
        }
      ]
    },
    {
      "cell_type": "markdown",
      "source": [
        "Download Dataset and Rename data folders as specified."
      ],
      "metadata": {
        "id": "E2BIMXUYMG3n"
      }
    },
    {
      "cell_type": "code",
      "source": [
        "data_dir = '/content/nasa_harvest_boundary_detection_challenge-main/data'\n",
        "from radiant_mlhub import Dataset\n",
        "ds = Dataset.fetch('nasa_rwanda_field_boundary_competition')\n",
        "ds.download(data_dir)\n",
        "\n",
        "\n",
        "data_dir2 = f'{data_dir}/nasa_rwanda_field_boundary_competition'\n",
        "import os\n",
        "os.rename(f'{data_dir2}/nasa_rwanda_field_boundary_competition_source_train',f'{data_dir}/train_imgs')\n",
        "os.rename(f'{data_dir2}/nasa_rwanda_field_boundary_competition_labels_train',f'{data_dir}/train_labels')\n",
        "os.rename(f'{data_dir2}/nasa_rwanda_field_boundary_competition_source_test',f'{data_dir}/test_imgs')\n",
        "\n",
        "!rm -r /content/nasa_harvest_boundary_detection_challenge-main/data/nasa_rwanda_field_boundary_competition"
      ],
      "metadata": {
        "id": "YkPr9LZhGEEO",
        "colab": {
          "base_uri": "https://localhost:8080/"
        },
        "outputId": "72db8e88-aa17-484e-fea8-e6602e3305e4"
      },
      "execution_count": 8,
      "outputs": [
        {
          "output_type": "stream",
          "name": "stderr",
          "text": [
            "nasa_rwanda_field_boundary_competition: fetch stac catalog: 160KB [00:00, 15128.24KB/s]            \n",
            "unarchive nasa_rwanda_field_boundary_competition.tar.gz: 100%|██████████| 962/962 [00:00<00:00, 4942.54it/s]\n",
            "download assets: 100%|██████████| 1738/1738 [00:33<00:00, 51.97it/s]\n"
          ]
        }
      ]
    },
    {
      "cell_type": "markdown",
      "source": [
        "To perform inference, you have to use the our trained model weights found in this drive:\n",
        "https://drive.google.com/drive/folders/16fM7JuLNvbqeJGeNf4o2y_Fyo0KV1wD0?usp=sharing\n",
        "\n",
        "Add a shortcut of this folder to your drive"
      ],
      "metadata": {
        "id": "Kndng-MnSL_n"
      }
    },
    {
      "cell_type": "code",
      "source": [
        "from google.colab import drive\n",
        "#drive.flush_and_unmount()\n",
        "#!rm -rf ../content/drive\n",
        "drive.mount('/content/drive')"
      ],
      "metadata": {
        "colab": {
          "base_uri": "https://localhost:8080/"
        },
        "id": "HtVf43dkSaJO",
        "outputId": "8df1ccbc-d8e9-4eee-d27b-3f0713e7be18"
      },
      "execution_count": 11,
      "outputs": [
        {
          "output_type": "stream",
          "name": "stdout",
          "text": [
            "Mounted at /content/drive\n"
          ]
        }
      ]
    },
    {
      "cell_type": "markdown",
      "source": [
        "Run Inference and get a submission csv using our trained weights"
      ],
      "metadata": {
        "id": "c1ESrNakUEqk"
      }
    },
    {
      "cell_type": "code",
      "source": [
        "!python3 ensemble_submission.py --input_dir '/content/drive/MyDrive/nasa_rwanda_field_boundary_competition_final_weights' --data_dir './data' --save_file './geoai_final_submission.csv'"
      ],
      "metadata": {
        "colab": {
          "base_uri": "https://localhost:8080/"
        },
        "id": "E1SrsrtVUDhA",
        "outputId": "8dc91b9a-a9eb-4421-f825-eadddc8e0528"
      },
      "execution_count": 13,
      "outputs": [
        {
          "output_type": "stream",
          "name": "stdout",
          "text": [
            "Running Inference...: 100% 19/19 [01:39<00:00,  5.24s/it]\n",
            "Finished. Submission saved to ./geoai_final_submission.csv\n"
          ]
        }
      ]
    },
    {
      "cell_type": "markdown",
      "source": [
        "Submit the output csv to get a score of 0.409897153"
      ],
      "metadata": {
        "id": "pue7boDif6DY"
      }
    },
    {
      "cell_type": "markdown",
      "source": [
        "Train Models ( You Need 24GB VRAM So this wont work here ). This is just a demo."
      ],
      "metadata": {
        "id": "QTatXFHLMSK7"
      }
    },
    {
      "cell_type": "code",
      "source": [
        "!python3 train_all.py --configs_dir './final_models_configs' --out_dir './final_models' --data_dir './data/nasa_rwanda_field_boundary_competition' --folds_path './folds.csv'"
      ],
      "metadata": {
        "id": "M8eZXclxA_8N"
      },
      "execution_count": null,
      "outputs": []
    }
  ]
}