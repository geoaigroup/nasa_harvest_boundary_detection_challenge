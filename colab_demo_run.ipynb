{
  "nbformat": 4,
  "nbformat_minor": 0,
  "metadata": {
    "colab": {
      "provenance": []
    },
    "kernelspec": {
      "name": "python3",
      "display_name": "Python 3"
    },
    "language_info": {
      "name": "python"
    },
    "accelerator": "GPU",
    "gpuClass": "standard"
  },
  "cells": [
    {
      "cell_type": "markdown",
      "source": [
        "Install Dependencies"
      ],
      "metadata": {
        "id": "9vQ9KbrdAbeB"
      }
    },
    {
      "cell_type": "code",
      "execution_count": null,
      "metadata": {
        "id": "3tROpO27-2MJ"
      },
      "outputs": [],
      "source": [
        "!pip install radiant_mlhub\n",
        "!pip install segmentation_models_pytorch\n",
        "!pip install rasterio\n",
        "!pip install scikit-image\n",
        "!pip install tqdm\n",
        "!pip install albumentations\n",
        "!pip install scipy\n",
        "!pip install einops"
      ]
    },
    {
      "cell_type": "markdown",
      "source": [
        "ML_HUB Authentication "
      ],
      "metadata": {
        "id": "4L7kOxHCLjlk"
      }
    },
    {
      "cell_type": "code",
      "source": [
        "!mlhub configure"
      ],
      "metadata": {
        "id": "TE2jwTACGm-y"
      },
      "execution_count": null,
      "outputs": []
    },
    {
      "cell_type": "code",
      "source": [
        "#!rm -r nasa_harvest_boundary_detection_challenge-main.zip"
      ],
      "metadata": {
        "id": "aMGO32fHFllh"
      },
      "execution_count": 3,
      "outputs": []
    },
    {
      "cell_type": "markdown",
      "source": [
        "At the time of the creation off this notebook, the repo was private, so we just unzip it... You might wanna do this:\n",
        "\n",
        "\n",
        "`!git clone https://github.com/geoaigroup/nasa_harvest_boundary_detection_challenge.git`"
      ],
      "metadata": {
        "id": "xrIwnUcGAifX"
      }
    },
    {
      "cell_type": "code",
      "source": [
        "!ls -la\n",
        "!unzip nasa_harvest_boundary_detection_challenge-main.zip"
      ],
      "metadata": {
        "id": "L4Dxzx6j_zmT"
      },
      "execution_count": null,
      "outputs": []
    },
    {
      "cell_type": "markdown",
      "source": [
        "Download Dataset and Rename data folders as specified."
      ],
      "metadata": {
        "id": "E2BIMXUYMG3n"
      }
    },
    {
      "cell_type": "code",
      "source": [
        "%cd nasa_harvest_boundary_detection_challenge-main/data\n",
        "from radiant_mlhub import Dataset\n",
        "ds = Dataset.fetch('nasa_rwanda_field_boundary_competition')\n",
        "ds.download()\n",
        "\n",
        "%cd nasa_rwanda_field_boundary_competition\n",
        "import os\n",
        "os.rename('nasa_rwanda_field_boundary_competition_source_train','train_imgs')\n",
        "os.rename('nasa_rwanda_field_boundary_competition_labels_train','train_labels')\n",
        "os.rename('nasa_rwanda_field_boundary_competition_source_test','test_imgs')\n",
        "%cd ../../"
      ],
      "metadata": {
        "id": "YkPr9LZhGEEO"
      },
      "execution_count": null,
      "outputs": []
    },
    {
      "cell_type": "markdown",
      "source": [
        "Train Models ( You Need 24GB VRAM So this wont work here ). This is just a demo."
      ],
      "metadata": {
        "id": "QTatXFHLMSK7"
      }
    },
    {
      "cell_type": "code",
      "source": [
        "#%cd nasa_harvest_boundary_detection_challenge-main\n",
        "!python3 train_all.py --configs_dir './final_models_configs' --out_dir './final_models' --data_dir './data/nasa_rwanda_field_boundary_competition' --folds_path './folds.csv'"
      ],
      "metadata": {
        "id": "M8eZXclxA_8N"
      },
      "execution_count": null,
      "outputs": []
    }
  ]
}