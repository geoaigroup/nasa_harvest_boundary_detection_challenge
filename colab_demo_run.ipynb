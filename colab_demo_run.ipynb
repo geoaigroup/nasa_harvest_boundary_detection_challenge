{
  "nbformat": 4,
  "nbformat_minor": 0,
  "metadata": {
    "colab": {
      "provenance": [],
      "include_colab_link": true
    },
    "kernelspec": {
      "name": "python3",
      "display_name": "Python 3"
    },
    "language_info": {
      "name": "python"
    },
    "accelerator": "GPU",
    "gpuClass": "standard"
  },
  "cells": [
    {
      "cell_type": "markdown",
      "metadata": {
        "id": "view-in-github",
        "colab_type": "text"
      },
      "source": [
        "<a href=\"https://colab.research.google.com/github/geoaigroup/nasa_harvest_boundary_detection_challenge/blob/main/colab_demo_run.ipynb\" target=\"_parent\"><img src=\"https://colab.research.google.com/assets/colab-badge.svg\" alt=\"Open In Colab\"/></a>"
      ]
    },
    {
      "cell_type": "code",
      "source": [
        "!git clone https://github.com/geoaigroup/nasa_harvest_boundary_detection_challenge.git"
      ],
      "metadata": {
        "id": "L4Dxzx6j_zmT",
        "outputId": "349ade61-85e8-415b-9792-14e41a3b63e4",
        "colab": {
          "base_uri": "https://localhost:8080/"
        }
      },
      "execution_count": 3,
      "outputs": [
        {
          "output_type": "stream",
          "name": "stdout",
          "text": [
            "total 16\n",
            "drwxr-xr-x 1 root root 4096 Feb 27 14:36 .\n",
            "drwxr-xr-x 1 root root 4096 Mar  1 11:53 ..\n",
            "drwxr-xr-x 4 root root 4096 Feb 27 14:36 .config\n",
            "drwxr-xr-x 1 root root 4096 Feb 27 14:36 sample_data\n",
            "Cloning into 'nasa_harvest_boundary_detection_challenge'...\n",
            "remote: Enumerating objects: 315, done.\u001b[K\n",
            "remote: Counting objects: 100% (162/162), done.\u001b[K\n",
            "remote: Compressing objects: 100% (85/85), done.\u001b[K\n",
            "remote: Total 315 (delta 89), reused 130 (delta 73), pack-reused 153\u001b[K\n",
            "Receiving objects: 100% (315/315), 7.56 MiB | 21.32 MiB/s, done.\n",
            "Resolving deltas: 100% (150/150), done.\n"
          ]
        }
      ]
    },
    {
      "cell_type": "markdown",
      "source": [
        "Install Dependencies"
      ],
      "metadata": {
        "id": "9vQ9KbrdAbeB"
      }
    },
    {
      "cell_type": "code",
      "execution_count": null,
      "metadata": {
        "id": "3tROpO27-2MJ"
      },
      "outputs": [],
      "source": [
        "!pip install radiant_mlhub\n",
        "!pip install segmentation_models_pytorch\n",
        "!pip install rasterio\n",
        "!pip install scikit-image\n",
        "!pip install tqdm\n",
        "!pip install albumentations\n",
        "!pip install scipy\n",
        "!pip install einops"
      ]
    },
    {
      "cell_type": "markdown",
      "source": [
        "ML_HUB Authentication "
      ],
      "metadata": {
        "id": "4L7kOxHCLjlk"
      }
    },
    {
      "cell_type": "code",
      "source": [
        "!mlhub configure --api-key a05a647a758799e7f0d36dfe9e124dbcd5a6c50a82fec315aabca27a0adcd955"
      ],
      "metadata": {
        "id": "TE2jwTACGm-y",
        "outputId": "eee4617c-9588-4b20-895c-4c39a1f27996",
        "colab": {
          "base_uri": "https://localhost:8080/"
        }
      },
      "execution_count": 2,
      "outputs": [
        {
          "output_type": "stream",
          "name": "stdout",
          "text": [
            "Wrote profile to /root/.mlhub/profiles\n"
          ]
        }
      ]
    },
    {
      "cell_type": "markdown",
      "source": [
        "Download Dataset and Rename data folders as specified."
      ],
      "metadata": {
        "id": "E2BIMXUYMG3n"
      }
    },
    {
      "cell_type": "code",
      "source": [
        "data_dir = '/content/nasa_harvest_boundary_detection_challenge-main/data'\n",
        "from radiant_mlhub import Dataset\n",
        "ds = Dataset.fetch('nasa_rwanda_field_boundary_competition')\n",
        "ds.download(data_dir)\n",
        "\n",
        "\n",
        "data_dir2 = f'{data_dir}/nasa_rwanda_field_boundary_competition'\n",
        "import os\n",
        "os.rename(f'{data_dir2}/nasa_rwanda_field_boundary_competition_source_train',f'{data_dir}/train_imgs')\n",
        "os.rename(f'{data_dir2}/nasa_rwanda_field_boundary_competition_labels_train',f'{data_dir}/train_labels')\n",
        "os.rename(f'{data_dir2}/nasa_rwanda_field_boundary_competition_source_test',f'{data_dir}/test_imgs')\n",
        "\n",
        "!rm -r /content/nasa_harvest_boundary_detection_challenge-main/data/nasa_rwanda_field_boundary_competition"
      ],
      "metadata": {
        "id": "YkPr9LZhGEEO",
        "colab": {
          "base_uri": "https://localhost:8080/"
        },
        "outputId": "39aac9a2-9047-4dd9-a947-de1957c6be2d"
      },
      "execution_count": 4,
      "outputs": [
        {
          "output_type": "stream",
          "name": "stderr",
          "text": [
            "nasa_rwanda_field_boundary_competition: fetch stac catalog: 160KB [00:00, 520.74KB/s]                        \n",
            "unarchive nasa_rwanda_field_boundary_competition.tar.gz: 100%|██████████| 962/962 [00:00<00:00, 4086.38it/s]\n",
            "download assets: 100%|██████████| 1738/1738 [03:52<00:00,  7.46it/s]\n"
          ]
        }
      ]
    },
    {
      "cell_type": "markdown",
      "source": [
        "To perform inference, you have to use our trained model weights found on a GCP bucket:"
      ],
      "metadata": {
        "id": "Kndng-MnSL_n"
      }
    },
    {
      "cell_type": "code",
      "source": [
        "from google.colab import auth\n",
        "auth.authenticate_user()\n",
        "project_id = 'strong-impulse-327808'\n",
        "!gcloud config set project {project_id}\n",
        "!gsutil -m cp -r gs://nasa_harvest_boundary_detection_challenge/nasa_rwanda_field_boundary_competition_final_weights/ /content/"
      ],
      "metadata": {
        "id": "oClkg6MB9HWT"
      },
      "execution_count": null,
      "outputs": []
    },
    {
      "cell_type": "markdown",
      "source": [
        "Run Inference and get a submission csv using our trained weights"
      ],
      "metadata": {
        "id": "c1ESrNakUEqk"
      }
    },
    {
      "cell_type": "code",
      "source": [
        "%cd /content/nasa_harvest_boundary_detection_challenge\n",
        "!python3 ensemble_submission.py --input_dir '/content/nasa_rwanda_field_boundary_competition_final_weights' --data_dir './data' --save_file './geoai_final_submission.csv'"
      ],
      "metadata": {
        "colab": {
          "base_uri": "https://localhost:8080/"
        },
        "id": "E1SrsrtVUDhA",
        "outputId": "d4e2b487-9c76-4d47-e0c9-8813f5b14fd1"
      },
      "execution_count": 20,
      "outputs": [
        {
          "output_type": "stream",
          "name": "stdout",
          "text": [
            "/content/nasa_harvest_boundary_detection_challenge\n",
            "Traceback (most recent call last):\n",
            "  File \"ensemble_submission.py\", line 124, in <module>\n",
            "    preds,iids,_ = inference(\n",
            "  File \"ensemble_submission.py\", line 45, in inference\n",
            "    data_orig = torch.stack(data,dim=0)\n",
            "RuntimeError: stack expects a non-empty TensorList\n"
          ]
        }
      ]
    },
    {
      "cell_type": "markdown",
      "source": [
        "Submit the output csv to get a score of 0.409897153"
      ],
      "metadata": {
        "id": "pue7boDif6DY"
      }
    },
    {
      "cell_type": "markdown",
      "source": [
        "Train Models ( You Need 24GB VRAM So this wont work here ). This is just a demo."
      ],
      "metadata": {
        "id": "QTatXFHLMSK7"
      }
    },
    {
      "cell_type": "code",
      "source": [
        "!python3 train_all.py --configs_dir './final_models_configs' --out_dir './final_models' --data_dir './data/nasa_rwanda_field_boundary_competition' --folds_path './folds.csv'"
      ],
      "metadata": {
        "id": "M8eZXclxA_8N",
        "outputId": "0ff07dc0-5504-4de7-b951-f6b60f6291ed",
        "colab": {
          "base_uri": "https://localhost:8080/"
        }
      },
      "execution_count": 9,
      "outputs": [
        {
          "output_type": "stream",
          "name": "stdout",
          "text": [
            "python3: can't open file 'train_all.py': [Errno 2] No such file or directory\n"
          ]
        }
      ]
    }
  ]
}